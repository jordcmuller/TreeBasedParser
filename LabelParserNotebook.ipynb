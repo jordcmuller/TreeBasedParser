{
 "cells": [
  {
   "cell_type": "code",
   "execution_count": 1,
   "metadata": {},
   "outputs": [],
   "source": [
    "import tensorflow as tf\n",
    "from tensorflow import keras\n",
    "from tensorflow.keras import layers\n",
    "import numpy as np"
   ]
  },
  {
   "cell_type": "code",
   "execution_count": 2,
   "metadata": {},
   "outputs": [],
   "source": [
    "DIM_EMBEDDING = 100\n",
    "EPOCHS = 100\n",
    "GLOVE = \"../Embeddings/glove.6B.100d.txt\"\n",
    "\n",
    "train_path = r\"C:\\Users\\jorda\\Documents\\UCT\\Maths and Applied Maths\\MAM3040W\\Project\\mrs-processing\\data\\extracted\\train\"\n",
    "hike_path = train_path + r\"\\hike.tags\""
   ]
  },
  {
   "cell_type": "code",
   "execution_count": 3,
   "metadata": {},
   "outputs": [],
   "source": [
    "def create_mask(input, mask_value=0):\n",
    "    mask = np.zeros(input.shape)\n",
    "    mask = input != -1\n",
    "    print(mask)\n",
    "    return mask"
   ]
  },
  {
   "cell_type": "code",
   "execution_count": 4,
   "metadata": {},
   "outputs": [],
   "source": [
    "def tag_word_separator(input):\n",
    "    tokens = input.replace(\"[\", \" [ \").replace(\"]\", \" ] \").split()\n",
    "\n",
    "    out_tokens = []\n",
    "    out_tags = []\n",
    "\n",
    "    index = 0\n",
    "\n",
    "    while index < len(tokens):\n",
    "        # get the tag\n",
    "        if tokens[index] == \"[\":\n",
    "            index += 1\n",
    "            out_tags.append(tokens[index])\n",
    "        index += 1\n",
    "        # get the token\n",
    "        if tokens[index] == \"]\":\n",
    "            index += 1\n",
    "            phrase = tokens[index]\n",
    "            index += 1\n",
    "            # make sure that we capture any phrases as well\n",
    "            while index < len(tokens) and tokens[index] != \"[\":\n",
    "                phrase += \" \" + tokens[index]\n",
    "                index += 1\n",
    "            out_tokens.append(phrase)\n",
    "\n",
    "    return [out_tokens, out_tags]"
   ]
  },
  {
   "cell_type": "code",
   "execution_count": 5,
   "metadata": {},
   "outputs": [],
   "source": [
    "def get_sentence_vector(sentence, word_to_id_dict):\n",
    "    output = [word_to_id_dict[word] for word in sentence]\n",
    "    return np.array(output)"
   ]
  },
  {
   "cell_type": "code",
   "execution_count": 6,
   "metadata": {},
   "outputs": [],
   "source": [
    "def tag_distribution_vector(tag, tag_to_id_dict):\n",
    "    output = np.zeros(len(tag_to_id_dict))\n",
    "    output[tag_to_id_dict[tag]] = 1\n",
    "    return output"
   ]
  },
  {
   "cell_type": "code",
   "execution_count": 7,
   "metadata": {},
   "outputs": [],
   "source": [
    "train = []\n",
    "test = []\n",
    "dev = []\n",
    "\n",
    "with open(hike_path, \"r+\") as file:\n",
    "    for line in file:\n",
    "        train.append(tag_word_separator(line.strip()))"
   ]
  },
  {
   "cell_type": "code",
   "execution_count": 8,
   "metadata": {},
   "outputs": [],
   "source": [
    "# Set Up Indices\n",
    "# this allows us to move from a word to its index in the word_list and from an index to its word\n",
    "\n",
    "# this will correspond to the words from the sentences\n",
    "id_to_token = [] # put in the appropriate tokens here\n",
    "token_to_id = {} # set up the associated token to id index (must correspond with the id_to_token)\n",
    "\n",
    "# this will correspond to the span labels\n",
    "id_to_tag = []\n",
    "tag_to_id = {}\n",
    "\n",
    "for tokens, labels in train + test + dev:\n",
    "    for token in tokens:\n",
    "        if token not in token_to_id:\n",
    "            token_to_id[token] = len(token_to_id)\n",
    "            id_to_token.append(token)\n",
    "\n",
    "    for label in labels:\n",
    "        if label not in tag_to_id:\n",
    "            tag_to_id[label] = len(tag_to_id)\n",
    "            id_to_tag.append(label)\n",
    "\n",
    "NWORDS = len(id_to_token)\n",
    "NTAGS = len(id_to_tag)"
   ]
  },
  {
   "cell_type": "code",
   "execution_count": 9,
   "metadata": {},
   "outputs": [],
   "source": [
    "# get GloVe embeddings\n",
    "pretrained = {}\n",
    "for line in open(GLOVE, \"r\", encoding=\"utf8\"):\n",
    "    parts = line.strip().split()\n",
    "    word = parts[0]\n",
    "    pretrained[word] = parts[1:]\n",
    "\n",
    "pretrained_list = []\n",
    "scale = np.sqrt(3.0 / DIM_EMBEDDING)\n",
    "for word in id_to_token:\n",
    "    if word.lower() in pretrained:\n",
    "        vector = [float(v) for v in pretrained[word.lower()]]\n",
    "        pretrained_list.append(np.array(vector))\n",
    "    else:\n",
    "        random_vector = np.random.uniform(-scale, scale, [DIM_EMBEDDING])\n",
    "        pretrained_list.append(random_vector)\n",
    "\n",
    "assert len(pretrained_list) == NWORDS"
   ]
  },
  {
   "cell_type": "code",
   "execution_count": 10,
   "metadata": {},
   "outputs": [],
   "source": [
    "for i in range(len(train)):\n",
    "    tokens = train[i][0]\n",
    "    tags = train[i][1]\n",
    "\n",
    "    sequence_array = np.array(get_sentence_vector(tokens, token_to_id))\n",
    "\n",
    "    tag_dist = np.array(\n",
    "        [tag_distribution_vector(tag, tag_to_id) for tag in tags]\n",
    "    )\n",
    "    # convert the tags to the probability distribution form\n",
    "    train[i] = [sequence_array, tag_dist]"
   ]
  },
  {
   "cell_type": "code",
   "execution_count": 11,
   "metadata": {},
   "outputs": [
    {
     "name": "stdout",
     "output_type": "stream",
     "text": [
      "(324,)\n",
      "(324,)\n"
     ]
    }
   ],
   "source": [
    "x_train = np.array([inp[0] for inp in train])\n",
    "y_train = np.array([inp[1] for inp in train])\n",
    "# x_test = np.asarray(x_test)\n",
    "# y_test = np.asarray(y_test)\n",
    "\n",
    "# x_train = tf.convert_to_tensor([inp[0] for inp in train])\n",
    "# x_test = np.asarray(x_test)\n",
    "# y_train = tf.convert_to_tensor([inp[1] for inp in train])\n",
    "# y_test = np.asarray(y_test)\n",
    "\n",
    "# print(x_train.shape)\n",
    "# print(y_train.shape)\n",
    "# print(x_test.shape)\n",
    "# print(y_test.shape)"
   ]
  },
  {
   "cell_type": "code",
   "execution_count": 14,
   "metadata": {},
   "outputs": [],
   "source": [
    "x_train = keras.preprocessing.sequence.pad_sequences(\n",
    "    x_train,\n",
    "    value=0\n",
    ")\n",
    "y_train = keras.preprocessing.sequence.pad_sequences(\n",
    "    y_train,\n",
    "    value=0\n",
    ")"
   ]
  },
  {
   "cell_type": "code",
   "execution_count": 15,
   "metadata": {},
   "outputs": [],
   "source": [
    "x_train = tf.convert_to_tensor(x_train)\n",
    "y_train = tf.convert_to_tensor(y_train)"
   ]
  },
  {
   "cell_type": "code",
   "execution_count": 16,
   "metadata": {},
   "outputs": [
    {
     "name": "stdout",
     "output_type": "stream",
     "text": [
      "tf.Tensor(\n",
      "[[   0    0    0 ...    6    7    8]\n",
      " [   0    0    0 ...    6    7    8]\n",
      " [   0    0    0 ...    6    7    8]\n",
      " ...\n",
      " [   0    0    0 ...   23  762 1042]\n",
      " [   0    0    0 ...   15  762 1042]\n",
      " [   0    0    0 ...  293   23 1051]], shape=(324, 35), dtype=int32)\n",
      "tf.Tensor(\n",
      "[[[0 0 0 ... 0 0 0]\n",
      "  [0 0 0 ... 0 0 0]\n",
      "  [0 0 0 ... 0 0 0]\n",
      "  ...\n",
      "  [0 0 0 ... 0 0 0]\n",
      "  [0 0 0 ... 0 0 0]\n",
      "  [0 0 0 ... 0 0 0]]\n",
      "\n",
      " [[0 0 0 ... 0 0 0]\n",
      "  [0 0 0 ... 0 0 0]\n",
      "  [0 0 0 ... 0 0 0]\n",
      "  ...\n",
      "  [0 0 0 ... 0 0 0]\n",
      "  [0 0 0 ... 0 0 0]\n",
      "  [0 0 0 ... 0 0 0]]\n",
      "\n",
      " [[0 0 0 ... 0 0 0]\n",
      "  [0 0 0 ... 0 0 0]\n",
      "  [0 0 0 ... 0 0 0]\n",
      "  ...\n",
      "  [0 0 0 ... 0 0 0]\n",
      "  [0 0 0 ... 0 0 0]\n",
      "  [0 0 0 ... 0 0 0]]\n",
      "\n",
      " ...\n",
      "\n",
      " [[0 0 0 ... 0 0 0]\n",
      "  [0 0 0 ... 0 0 0]\n",
      "  [0 0 0 ... 0 0 0]\n",
      "  ...\n",
      "  [0 0 0 ... 0 0 0]\n",
      "  [0 0 0 ... 0 0 0]\n",
      "  [0 0 0 ... 0 0 0]]\n",
      "\n",
      " [[0 0 0 ... 0 0 0]\n",
      "  [0 0 0 ... 0 0 0]\n",
      "  [0 0 0 ... 0 0 0]\n",
      "  ...\n",
      "  [0 0 0 ... 0 0 0]\n",
      "  [0 0 0 ... 0 0 0]\n",
      "  [0 0 0 ... 0 0 0]]\n",
      "\n",
      " [[0 0 0 ... 0 0 0]\n",
      "  [0 0 0 ... 0 0 0]\n",
      "  [0 0 0 ... 0 0 0]\n",
      "  ...\n",
      "  [0 0 0 ... 0 0 0]\n",
      "  [0 0 0 ... 0 0 0]\n",
      "  [0 0 0 ... 0 0 1]]], shape=(324, 35, 477), dtype=int32)\n"
     ]
    }
   ],
   "source": [
    "# print(x_train)\n",
    "# print(y_train)"
   ]
  },
  {
   "cell_type": "code",
   "execution_count": 17,
   "metadata": {},
   "outputs": [
    {
     "name": "stdout",
     "output_type": "stream",
     "text": [
      "tf.Tensor(\n",
      "[[ True  True  True ...  True  True  True]\n",
      " [ True  True  True ...  True  True  True]\n",
      " [ True  True  True ...  True  True  True]\n",
      " ...\n",
      " [ True  True  True ...  True  True  True]\n",
      " [ True  True  True ...  True  True  True]\n",
      " [ True  True  True ...  True  True  True]], shape=(324, 35), dtype=bool)\n"
     ]
    }
   ],
   "source": [
    "mask = create_mask(x_train)"
   ]
  },
  {
   "cell_type": "code",
   "execution_count": 18,
   "metadata": {},
   "outputs": [],
   "source": [
    "lstm_hidden = 64"
   ]
  },
  {
   "cell_type": "code",
   "execution_count": 19,
   "metadata": {},
   "outputs": [],
   "source": [
    "model = keras.Sequential()\n",
    "\n",
    "# Layers:\n",
    "\n",
    "#   Input — sequential\n",
    "# Define the inputs\n",
    "#\n",
    "#   Embedding — What dimension input vectors\n",
    "#             — embeddings will consist of a word vector and a PoS embedding concatenated (add this in later)\n",
    "# Layers to parse the sentence\n",
    "glove_init = keras.initializers.Constant(np.array(pretrained_list))\n",
    "model.add(layers.Embedding(\n",
    "        input_dim=NWORDS,\n",
    "        output_dim=DIM_EMBEDDING,\n",
    "        trainable=False,\n",
    "        embeddings_initializer=glove_init,\n",
    "        mask_zero=True\n",
    "    ))\n",
    "# include the character level embeddings\n",
    "# probably use a cnn for this\n",
    "\n",
    "#   BLSTM — bidirectional LSTM\n",
    "#         — How many hidden layers and units\n",
    "#         — Only output after the whole span has been parsed, not at every input\n",
    "model.add(\n",
    "    layers.Bidirectional(layers.LSTM(lstm_hidden, return_sequences=True))\n",
    ")\n",
    "# Now we just need to get access to the lstm_output values to create the span encodings\n",
    "\n",
    "\n",
    "#   Dense — What does this do?\n",
    "#         — Will this actually just be the output layer?\n",
    "#         — Number of units\n",
    "model.add(layers.Dense(NTAGS))"
   ]
  },
  {
   "cell_type": "code",
   "execution_count": 20,
   "metadata": {},
   "outputs": [],
   "source": [
    "# model.build()"
   ]
  },
  {
   "cell_type": "code",
   "execution_count": 21,
   "metadata": {},
   "outputs": [
    {
     "name": "stdout",
     "output_type": "stream",
     "text": [
      "Model: \"sequential\"\n",
      "_________________________________________________________________\n",
      "Layer (type)                 Output Shape              Param #   \n",
      "=================================================================\n",
      "embedding (Embedding)        (None, None, 100)         105200    \n",
      "_________________________________________________________________\n",
      "bidirectional (Bidirectional (None, None, 128)         84480     \n",
      "_________________________________________________________________\n",
      "dense (Dense)                (None, None, 477)         61533     \n",
      "=================================================================\n",
      "Total params: 251,213\n",
      "Trainable params: 146,013\n",
      "Non-trainable params: 105,200\n",
      "_________________________________________________________________\n"
     ]
    }
   ],
   "source": [
    "model.summary()"
   ]
  },
  {
   "cell_type": "code",
   "execution_count": 24,
   "metadata": {},
   "outputs": [],
   "source": [
    "# Define/choose loss function\n",
    "# Define/choose gradient method\n",
    "model.compile(\n",
    "    loss=keras.losses.CategoricalCrossentropy(from_logits=True),\n",
    "    optimizer=\"adam\",\n",
    "    metrics=[\"accuracy\"]\n",
    ")"
   ]
  },
  {
   "cell_type": "code",
   "execution_count": 34,
   "metadata": {},
   "outputs": [
    {
     "name": "stdout",
     "output_type": "stream",
     "text": [
      "Epoch 1/10\n",
      "11/11 [==============================] - 0s 24ms/step - loss: 0.0124 - accuracy: 0.9998\n",
      "Epoch 2/10\n",
      "11/11 [==============================] - 0s 22ms/step - loss: 0.0122 - accuracy: 0.9998\n",
      "Epoch 3/10\n",
      "11/11 [==============================] - 0s 23ms/step - loss: 0.0120 - accuracy: 0.9998\n",
      "Epoch 4/10\n",
      "11/11 [==============================] - 0s 23ms/step - loss: 0.0118 - accuracy: 0.9998\n",
      "Epoch 5/10\n",
      "11/11 [==============================] - 0s 23ms/step - loss: 0.0116 - accuracy: 0.9998\n",
      "Epoch 6/10\n",
      "11/11 [==============================] - 0s 23ms/step - loss: 0.0114 - accuracy: 1.0000\n",
      "Epoch 7/10\n",
      "11/11 [==============================] - 0s 23ms/step - loss: 0.0112 - accuracy: 0.9998\n",
      "Epoch 8/10\n",
      "11/11 [==============================] - 0s 23ms/step - loss: 0.0111 - accuracy: 0.9998\n",
      "Epoch 9/10\n",
      "11/11 [==============================] - 0s 24ms/step - loss: 0.0109 - accuracy: 1.0000\n",
      "Epoch 10/10\n",
      "11/11 [==============================] - 0s 23ms/step - loss: 0.0108 - accuracy: 1.0000\n"
     ]
    }
   ],
   "source": [
    "history = model.fit(\n",
    "    # x_train, y_train, validation_data=(x_test, y_test), epochs=1\n",
    "    x_train, y_train, epochs=10\n",
    ")"
   ]
  },
  {
   "cell_type": "code",
   "execution_count": null,
   "metadata": {},
   "outputs": [],
   "source": []
  },
  {
   "cell_type": "code",
   "execution_count": null,
   "metadata": {},
   "outputs": [],
   "source": []
  }
 ],
 "metadata": {
  "kernelspec": {
   "display_name": "Python 3",
   "language": "python",
   "name": "python3"
  },
  "language_info": {
   "codemirror_mode": {
    "name": "ipython",
    "version": 3
   },
   "file_extension": ".py",
   "mimetype": "text/x-python",
   "name": "python",
   "nbconvert_exporter": "python",
   "pygments_lexer": "ipython3",
   "version": "3.7.3"
  }
 },
 "nbformat": 4,
 "nbformat_minor": 4
}